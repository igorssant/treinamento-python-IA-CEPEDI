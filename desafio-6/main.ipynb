{
 "cells": [
  {
   "cell_type": "markdown",
   "metadata": {},
   "source": [
    "# Desafio 6"
   ]
  },
  {
   "cell_type": "markdown",
   "metadata": {},
   "source": [
    "## Importando bibliotecas e pacotes"
   ]
  },
  {
   "cell_type": "code",
   "execution_count": null,
   "metadata": {},
   "outputs": [],
   "source": [
    "from keras.callbacks import TensorBoard\n",
    "from matplotlib import pyplot as plt\n",
    "import IPython.display as display\n",
    "from keras.datasets import mnist\n",
    "import tensorflow_hub as hub\n",
    "from keras import layers\n",
    "import matplotlib as mpl\n",
    "import tensorflow as tf\n",
    "import seaborn as sns\n",
    "from PIL import Image\n",
    "import numpy as np\n",
    "import functools\n",
    "import keras\n",
    "import time\n",
    "import PIL\n",
    "import os"
   ]
  },
  {
   "cell_type": "markdown",
   "metadata": {},
   "source": [
    "## Parte 1 - Autoencoder"
   ]
  },
  {
   "cell_type": "markdown",
   "metadata": {},
   "source": [
    "Utilize o código a seguir para remover ruídos de imagens do dataset MNIST\n",
    "\n",
    "Link: [google_colab](https://colab.research.google.com/drive/1XeZT0wwxepsip0HMasx4YyGiav_aXgU7?usp=sharing)"
   ]
  },
  {
   "cell_type": "markdown",
   "metadata": {},
   "source": [
    "### Carregando o dataset e dividindo os dados entre treino e teste"
   ]
  },
  {
   "cell_type": "code",
   "execution_count": null,
   "metadata": {},
   "outputs": [],
   "source": [
    "(x_train, y_train), (x_test, y_test) = mnist.load_data()"
   ]
  },
  {
   "cell_type": "markdown",
   "metadata": {},
   "source": [
    "### Normalizando os dados"
   ]
  },
  {
   "cell_type": "code",
   "execution_count": null,
   "metadata": {},
   "outputs": [],
   "source": [
    "x_train = x_train.astype(\"float32\") / 255.\n",
    "x_test = x_test.astype(\"float32\") / 255."
   ]
  },
  {
   "cell_type": "markdown",
   "metadata": {},
   "source": [
    "### Transpondo as matrizes"
   ]
  },
  {
   "cell_type": "code",
   "execution_count": null,
   "metadata": {},
   "outputs": [],
   "source": [
    "x_train = np.reshape(x_train, (len(x_train), 28, 28, 1))\n",
    "x_test = np.reshape(x_test, (len(x_test), 28, 28, 1))"
   ]
  },
  {
   "cell_type": "markdown",
   "metadata": {},
   "source": [
    "### Parâmetros para gerar imagens com ruídos"
   ]
  },
  {
   "cell_type": "code",
   "execution_count": null,
   "metadata": {},
   "outputs": [],
   "source": [
    "noise_factor = 0.5\n",
    "x_train_noisy = x_train + noise_factor * np.random.normal(\n",
    "    loc = 0.0,\n",
    "    scale = 1.0,\n",
    "    size = x_train.shape\n",
    ")\n",
    "x_test_noisy = x_test + noise_factor * np.random.normal(\n",
    "    loc = 0.0,\n",
    "    scale = 1.0,\n",
    "    size = x_test.shape\n",
    ")\n",
    "\n",
    "x_train_noisy = np.clip(x_train_noisy, 0., 1.)\n",
    "x_test_noisy = np.clip(x_test_noisy, 0., 1.)"
   ]
  },
  {
   "cell_type": "markdown",
   "metadata": {},
   "source": [
    "### Gerandos as imagens com ruídos e imprimindo o resultado"
   ]
  },
  {
   "cell_type": "code",
   "execution_count": null,
   "metadata": {},
   "outputs": [],
   "source": [
    "max_iter = 10\n",
    "plt.figure(figsize = (20, 2))\n",
    "\n",
    "for i in range(1, max_iter + 1):\n",
    "    axis = plt.subplot(1, max_iter, i)\n",
    "    plt.imshow(x_test_noisy[i].reshape(28, 28))\n",
    "    plt.gray()\n",
    "    axis.get_xaxis().set_visible(False)\n",
    "    axis.get_yaxis().set_visible(False)\n",
    "\n",
    "plt.show()"
   ]
  },
  {
   "cell_type": "markdown",
   "metadata": {},
   "source": [
    "### Gerando modelo para realizar a limpeza dos ruídos"
   ]
  },
  {
   "cell_type": "code",
   "execution_count": null,
   "metadata": {},
   "outputs": [],
   "source": [
    "# formatando imagem para entrada\n",
    "input_img = keras.Input(shape = (28, 28, 1))\n",
    "\n",
    "# camada de entrada e\n",
    "# uma camada de convolucao 2d\n",
    "x = layers.Conv2D(\n",
    "    32,\n",
    "    (3, 3),\n",
    "    activation = \"relu\",\n",
    "    padding = \"same\"\n",
    ")(input_img)\n",
    "\n",
    "# camada que realiza um maxpooling 2d\n",
    "x = layers.MaxPooling2D(\n",
    "    (2, 2),\n",
    "    padding = \"same\"\n",
    ")(x)\n",
    "\n",
    "# segunda camada de convolucao 2d\n",
    "x = layers.Conv2D(\n",
    "    32,\n",
    "    (3, 3),\n",
    "    activation = \"relu\",\n",
    "    padding = \"same\"\n",
    ")(x)\n",
    "\n",
    "# segunda camada de maxpooling 2d\n",
    "encoded = layers.MaxPooling2D(\n",
    "    (2, 2),\n",
    "    padding = \"same\"\n",
    ")(x)\n",
    "\n",
    "\n",
    "# terceira camada de convolucao 2d\n",
    "x = layers.Conv2D(\n",
    "    32,\n",
    "    (3, 3),\n",
    "    activation = \"relu\",\n",
    "    padding = \"same\"\n",
    ")(encoded)\n",
    "\n",
    "# uma cadama de upsampling\n",
    "x = layers.UpSampling2D((2, 2))(x)\n",
    "\n",
    "# quarta camada de convolucao 2d\n",
    "x = layers.Conv2D(\n",
    "    32,\n",
    "    (3, 3),\n",
    "    activation = \"relu\",\n",
    "    padding = \"same\"\n",
    ")(x)\n",
    "\n",
    "# segunda camada de upsampling\n",
    "x = layers.UpSampling2D((2, 2))(x)\n",
    "\n",
    "# camada de decodificacao e\n",
    "# camada de saida\n",
    "decoded = layers.Conv2D(\n",
    "    1,\n",
    "    (3, 3),\n",
    "    activation = \"sigmoid\",\n",
    "    padding = \"same\"\n",
    ")(x)\n",
    "\n",
    "# empacotando todo o modelo\n",
    "autoencoder = keras.Model(input_img, decoded)\n",
    "\n",
    "# compilando o modelo\n",
    "autoencoder.compile(optimizer = \"adam\", loss = \"binary_crossentropy\")"
   ]
  },
  {
   "cell_type": "markdown",
   "metadata": {},
   "source": [
    "### Realizando o fit()"
   ]
  },
  {
   "cell_type": "code",
   "execution_count": null,
   "metadata": {},
   "outputs": [],
   "source": [
    "autoencoder.fit(\n",
    "    x_train_noisy,\n",
    "    x_train,\n",
    "    epochs = 50,\n",
    "    batch_size = 256,\n",
    "    shuffle = True,\n",
    "    validation_data = (x_test_noisy, x_test),\n",
    "    callbacks = [\n",
    "        TensorBoard(\n",
    "            histogram_freq = 0,\n",
    "            write_graph = False\n",
    "        )\n",
    "    ]\n",
    ")"
   ]
  },
  {
   "cell_type": "markdown",
   "metadata": {},
   "source": [
    "## Parte 2 - GAN"
   ]
  },
  {
   "cell_type": "markdown",
   "metadata": {},
   "source": [
    "### Estilo neural"
   ]
  },
  {
   "cell_type": "markdown",
   "metadata": {},
   "source": [
    "Essa GAN aplica estilo de um artista em uma imagem, altere as imagens e estilos, assim como outros parâmetros que queira e gere uma arte digital.\n",
    "\n",
    "Link: [google_colab](https://colab.research.google.com/drive/1l2QRo4KOoQE3Bc5HvYem7g64h3wasQnx?usp=sharing)"
   ]
  },
  {
   "cell_type": "markdown",
   "metadata": {},
   "source": [
    "### Configurando ambiente"
   ]
  },
  {
   "cell_type": "code",
   "execution_count": null,
   "metadata": {},
   "outputs": [],
   "source": [
    "os.environ[\"TFHUB_MODEL_LOAD_FORMAT\"] = \"COMPRESSED\"\n",
    "mpl.rcParams[\"figure.figsize\"] = (12, 12)\n",
    "mpl.rcParams[\"axes.grid\"] = False"
   ]
  },
  {
   "cell_type": "markdown",
   "metadata": {},
   "source": [
    "### Função *tensor_to_image*"
   ]
  },
  {
   "cell_type": "code",
   "execution_count": 11,
   "metadata": {},
   "outputs": [],
   "source": [
    "def tensor_to_image(tensor):\n",
    "    tensor = tensor * 255\n",
    "    tensor = np.array(tensor, dtype = np.uint8)\n",
    "  \n",
    "    if np.ndim(tensor) > 3:\n",
    "        assert tensor.shape[0] == 1\n",
    "        tensor = tensor[0]\n",
    "    \n",
    "    return PIL.Image.fromarray(tensor)\n"
   ]
  },
  {
   "cell_type": "markdown",
   "metadata": {},
   "source": [
    "### Função *load_img*"
   ]
  },
  {
   "cell_type": "code",
   "execution_count": null,
   "metadata": {},
   "outputs": [],
   "source": [
    "def load_img(path_to_img):\n",
    "    max_dim = 512\n",
    "    \n",
    "    img = tf.io.read_file(path_to_img)\n",
    "    img = tf.image.decode_image(img, channels = 3)\n",
    "    img = tf.image.convert_image_dtype(img, tf.float32)\n",
    "\n",
    "    shape = tf.cast(tf.shape(img)[:-1], tf.float32)\n",
    "    long_dim = max(shape)\n",
    "    scale = max_dim / long_dim\n",
    "\n",
    "    new_shape = tf.cast(shape * scale, tf.int32)\n",
    "\n",
    "    img = tf.image.resize(img, new_shape)\n",
    "    img = img[tf.newaxis, :]\n",
    "    \n",
    "    return img\n"
   ]
  },
  {
   "cell_type": "markdown",
   "metadata": {},
   "source": [
    "### Função *show_image*"
   ]
  },
  {
   "cell_type": "code",
   "execution_count": null,
   "metadata": {},
   "outputs": [],
   "source": [
    "def show_image(image, title = None):\n",
    "    if len(image.shape) > 3:\n",
    "        image = tf.squeeze(image, axis = 0)\n",
    "\n",
    "    plt.imshow(image)\n",
    "    \n",
    "    if title:\n",
    "        plt.title(title)\n"
   ]
  },
  {
   "cell_type": "markdown",
   "metadata": {},
   "source": [
    "### importando algumas imagens"
   ]
  },
  {
   "cell_type": "code",
   "execution_count": null,
   "metadata": {},
   "outputs": [],
   "source": [
    "content_path = tf.keras.utils.get_file(\n",
    "    \"YellowLabradorLooking_new.jpg\",\n",
    "    \"https://storage.googleapis.com/download.tensorflow.org/example_images/YellowLabradorLooking_new.jpg\"\n",
    ")\n",
    "style_path = tf.keras.utils.get_file(\n",
    "    \"kandinsky5.jpg\",\n",
    "    \"https://storage.googleapis.com/download.tensorflow.org/example_images/Vassily_Kandinsky%2C_1913_-_Composition_7.jpg\"\n",
    ")"
   ]
  },
  {
   "cell_type": "markdown",
   "metadata": {},
   "source": [
    "### Imprimindo as imagens"
   ]
  },
  {
   "cell_type": "code",
   "execution_count": null,
   "metadata": {},
   "outputs": [],
   "source": [
    "content_image = load_img(content_path)\n",
    "style_image = load_img(style_path)\n",
    "\n",
    "plt.subplot(1, 2, 1)\n",
    "show_image(content_image, \"Content Image\")\n",
    "\n",
    "plt.subplot(1, 2, 2)\n",
    "show_image(style_image, \"Style Image\")"
   ]
  },
  {
   "cell_type": "markdown",
   "metadata": {},
   "source": [
    "### Imagem estilizada"
   ]
  },
  {
   "cell_type": "code",
   "execution_count": null,
   "metadata": {},
   "outputs": [],
   "source": [
    "hub_model = hub.load(\"https://tfhub.dev/google/magenta/arbitrary-image-stylization-v1-256/2\")\n",
    "stylized_image = hub_model(\n",
    "    tf.constant(content_image),\n",
    "    tf.constant(style_image)\n",
    ")[0]\n",
    "tensor_to_image(stylized_image)"
   ]
  }
 ],
 "metadata": {
  "kernelspec": {
   "display_name": "base",
   "language": "python",
   "name": "python3"
  },
  "language_info": {
   "codemirror_mode": {
    "name": "ipython",
    "version": 3
   },
   "file_extension": ".py",
   "mimetype": "text/x-python",
   "name": "python",
   "nbconvert_exporter": "python",
   "pygments_lexer": "ipython3",
   "version": "3.11.7"
  }
 },
 "nbformat": 4,
 "nbformat_minor": 2
}
