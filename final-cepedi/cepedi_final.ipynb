{
 "cells": [
  {
   "cell_type": "markdown",
   "metadata": {},
   "source": [
    "## Importando as bibliotecas e pacotes"
   ]
  },
  {
   "cell_type": "code",
   "execution_count": 88,
   "metadata": {},
   "outputs": [],
   "source": [
    "from sklearn.model_selection import train_test_split, GridSearchCV, cross_val_score\n",
    "from sklearn.ensemble import RandomForestClassifier\n",
    "from sklearn.preprocessing import LabelEncoder\n",
    "from sklearn.neighbors import NearestNeighbors\n",
    "from sklearn.metrics import confusion_matrix\n",
    "# from sklearn.pipeline import make_pipeline\n",
    "from matplotlib import pyplot as plt\n",
    "from sklearn.svm import SVC\n",
    "import seaborn as sns\n",
    "import pandas as pd\n",
    "import numpy as np"
   ]
  },
  {
   "cell_type": "markdown",
   "metadata": {},
   "source": [
    "## Carregando o dataset"
   ]
  },
  {
   "cell_type": "code",
   "execution_count": 89,
   "metadata": {},
   "outputs": [],
   "source": [
    "path = \"https://raw.githubusercontent.com/matheusssilva991/hackaton-cepedi/main/data/dados_consumo_agua.csv\"\n",
    "df_dados_agua = pd.read_csv(path, sep = \",\")"
   ]
  },
  {
   "cell_type": "markdown",
   "metadata": {},
   "source": [
    "## Breve resumo do dataset"
   ]
  },
  {
   "cell_type": "code",
   "execution_count": 90,
   "metadata": {},
   "outputs": [
    {
     "data": {
      "text/html": [
       "<div>\n",
       "<style scoped>\n",
       "    .dataframe tbody tr th:only-of-type {\n",
       "        vertical-align: middle;\n",
       "    }\n",
       "\n",
       "    .dataframe tbody tr th {\n",
       "        vertical-align: top;\n",
       "    }\n",
       "\n",
       "    .dataframe thead th {\n",
       "        text-align: right;\n",
       "    }\n",
       "</style>\n",
       "<table border=\"1\" class=\"dataframe\">\n",
       "  <thead>\n",
       "    <tr style=\"text-align: right;\">\n",
       "      <th></th>\n",
       "      <th>ano</th>\n",
       "      <th>mes</th>\n",
       "      <th>dia_semana</th>\n",
       "      <th>dia_mes</th>\n",
       "      <th>hora</th>\n",
       "      <th>quantidade_pessoas</th>\n",
       "      <th>consumo_agua_m3</th>\n",
       "      <th>regiao</th>\n",
       "      <th>padrao_consumo</th>\n",
       "    </tr>\n",
       "  </thead>\n",
       "  <tbody>\n",
       "    <tr>\n",
       "      <th>0</th>\n",
       "      <td>2020</td>\n",
       "      <td>1</td>\n",
       "      <td>quarta</td>\n",
       "      <td>1</td>\n",
       "      <td>0</td>\n",
       "      <td>3</td>\n",
       "      <td>0.13</td>\n",
       "      <td>Sul</td>\n",
       "      <td>Normal</td>\n",
       "    </tr>\n",
       "    <tr>\n",
       "      <th>1</th>\n",
       "      <td>2020</td>\n",
       "      <td>1</td>\n",
       "      <td>quarta</td>\n",
       "      <td>1</td>\n",
       "      <td>1</td>\n",
       "      <td>3</td>\n",
       "      <td>0.21</td>\n",
       "      <td>Sul</td>\n",
       "      <td>Normal</td>\n",
       "    </tr>\n",
       "    <tr>\n",
       "      <th>2</th>\n",
       "      <td>2020</td>\n",
       "      <td>1</td>\n",
       "      <td>quarta</td>\n",
       "      <td>1</td>\n",
       "      <td>2</td>\n",
       "      <td>3</td>\n",
       "      <td>0.26</td>\n",
       "      <td>Sul</td>\n",
       "      <td>Normal</td>\n",
       "    </tr>\n",
       "    <tr>\n",
       "      <th>3</th>\n",
       "      <td>2020</td>\n",
       "      <td>1</td>\n",
       "      <td>quarta</td>\n",
       "      <td>1</td>\n",
       "      <td>3</td>\n",
       "      <td>3</td>\n",
       "      <td>0.15</td>\n",
       "      <td>Sul</td>\n",
       "      <td>Normal</td>\n",
       "    </tr>\n",
       "    <tr>\n",
       "      <th>4</th>\n",
       "      <td>2020</td>\n",
       "      <td>1</td>\n",
       "      <td>quarta</td>\n",
       "      <td>1</td>\n",
       "      <td>4</td>\n",
       "      <td>3</td>\n",
       "      <td>0.62</td>\n",
       "      <td>Sul</td>\n",
       "      <td>Alto</td>\n",
       "    </tr>\n",
       "  </tbody>\n",
       "</table>\n",
       "</div>"
      ],
      "text/plain": [
       "    ano  mes dia_semana  dia_mes  hora  quantidade_pessoas  consumo_agua_m3  \\\n",
       "0  2020    1     quarta        1     0                   3             0.13   \n",
       "1  2020    1     quarta        1     1                   3             0.21   \n",
       "2  2020    1     quarta        1     2                   3             0.26   \n",
       "3  2020    1     quarta        1     3                   3             0.15   \n",
       "4  2020    1     quarta        1     4                   3             0.62   \n",
       "\n",
       "  regiao padrao_consumo  \n",
       "0    Sul         Normal  \n",
       "1    Sul         Normal  \n",
       "2    Sul         Normal  \n",
       "3    Sul         Normal  \n",
       "4    Sul           Alto  "
      ]
     },
     "execution_count": 90,
     "metadata": {},
     "output_type": "execute_result"
    }
   ],
   "source": [
    "df_dados_agua.head()"
   ]
  },
  {
   "cell_type": "code",
   "execution_count": 91,
   "metadata": {},
   "outputs": [
    {
     "data": {
      "text/plain": [
       "ano                     int64\n",
       "mes                     int64\n",
       "dia_semana             object\n",
       "dia_mes                 int64\n",
       "hora                    int64\n",
       "quantidade_pessoas      int64\n",
       "consumo_agua_m3       float64\n",
       "regiao                 object\n",
       "padrao_consumo         object\n",
       "dtype: object"
      ]
     },
     "execution_count": 91,
     "metadata": {},
     "output_type": "execute_result"
    }
   ],
   "source": [
    "df_dados_agua.dtypes"
   ]
  },
  {
   "cell_type": "code",
   "execution_count": 92,
   "metadata": {},
   "outputs": [
    {
     "name": "stdout",
     "output_type": "stream",
     "text": [
      "<class 'pandas.core.frame.DataFrame'>\n",
      "RangeIndex: 35040 entries, 0 to 35039\n",
      "Data columns (total 9 columns):\n",
      " #   Column              Non-Null Count  Dtype  \n",
      "---  ------              --------------  -----  \n",
      " 0   ano                 35040 non-null  int64  \n",
      " 1   mes                 35040 non-null  int64  \n",
      " 2   dia_semana          35040 non-null  object \n",
      " 3   dia_mes             35040 non-null  int64  \n",
      " 4   hora                35040 non-null  int64  \n",
      " 5   quantidade_pessoas  35040 non-null  int64  \n",
      " 6   consumo_agua_m3     35040 non-null  float64\n",
      " 7   regiao              35040 non-null  object \n",
      " 8   padrao_consumo      35040 non-null  object \n",
      "dtypes: float64(1), int64(5), object(3)\n",
      "memory usage: 2.4+ MB\n"
     ]
    }
   ],
   "source": [
    "df_dados_agua.info()"
   ]
  },
  {
   "cell_type": "markdown",
   "metadata": {},
   "source": [
    "## Modificando tipos dos dados do dataset"
   ]
  },
  {
   "cell_type": "markdown",
   "metadata": {},
   "source": [
    "### Diminuindo o peso dos dados"
   ]
  },
  {
   "cell_type": "code",
   "execution_count": 93,
   "metadata": {},
   "outputs": [],
   "source": [
    "df_dados_agua[\"ano\"] = df_dados_agua[\"ano\"].astype(\"uint16\")\n",
    "df_dados_agua[\"mes\"] = df_dados_agua[\"mes\"].astype(\"uint8\")"
   ]
  },
  {
   "cell_type": "markdown",
   "metadata": {},
   "source": [
    "### Modificando a coluna *\"dia_semana\"* para manter os dados de forma numérica"
   ]
  },
  {
   "cell_type": "markdown",
   "metadata": {},
   "source": [
    "#### Verificando os valores únicos"
   ]
  },
  {
   "cell_type": "code",
   "execution_count": 94,
   "metadata": {},
   "outputs": [
    {
     "data": {
      "text/plain": [
       "array(['quarta', 'quinta', 'sexta', 'sábado', 'domingo', 'segunda',\n",
       "       'terça'], dtype=object)"
      ]
     },
     "execution_count": 94,
     "metadata": {},
     "output_type": "execute_result"
    }
   ],
   "source": [
    "df_dados_agua[\"dia_semana\"].unique()"
   ]
  },
  {
   "cell_type": "markdown",
   "metadata": {},
   "source": [
    "#### Mapeando os novos valores de \"dia_semana\""
   ]
  },
  {
   "cell_type": "code",
   "execution_count": 95,
   "metadata": {},
   "outputs": [],
   "source": [
    "dicionario_dia_semana = {\n",
    "    \"domingo\"   : 0,\n",
    "    \"segunda\"   : 1,\n",
    "    \"terça\"     : 2,\n",
    "    \"quarta\"    : 3,\n",
    "    \"quinta\"    : 4,\n",
    "    \"sexta\"     : 5,\n",
    "    \"sábado\"    : 6\n",
    "}\n",
    "\n",
    "df_dados_agua[\"dia_semana\"] = df_dados_agua[\"dia_semana\"].map(dicionario_dia_semana)\n",
    "df_dados_agua[\"dia_semana\"] = df_dados_agua[\"dia_semana\"].astype(\"uint8\")"
   ]
  },
  {
   "cell_type": "markdown",
   "metadata": {},
   "source": [
    "### Modificando as outras colunas do dataset"
   ]
  },
  {
   "cell_type": "code",
   "execution_count": 96,
   "metadata": {},
   "outputs": [],
   "source": [
    "# dropando coluna \"dia_mes\" por redundancia\n",
    "df_dados_agua.drop(columns = [\"dia_mes\"], axis = \"columns\", inplace = True)\n",
    "\n",
    "df_dados_agua[\"hora\"] = df_dados_agua[\"hora\"].astype(\"uint8\")\n",
    "df_dados_agua[\"quantidade_pessoas\"] = df_dados_agua[\"quantidade_pessoas\"].astype(\"uint8\")\n",
    "df_dados_agua[\"consumo_agua_m3\"] = df_dados_agua[\"consumo_agua_m3\"].astype(\"float32\")"
   ]
  },
  {
   "cell_type": "markdown",
   "metadata": {},
   "source": [
    "### Modificando as colunas *\"regiao\"* e *\"padrao_consumo\"* para manter os dados de forma numérica"
   ]
  },
  {
   "cell_type": "markdown",
   "metadata": {},
   "source": [
    "#### Verificando os valores únicos"
   ]
  },
  {
   "cell_type": "code",
   "execution_count": 97,
   "metadata": {},
   "outputs": [
    {
     "name": "stdout",
     "output_type": "stream",
     "text": [
      "Valores únicos da coluna ---regiao--- : ['Sul'] \n",
      "\n",
      "Valores únicos da coluna ---padrao_consumo--- : ['Normal' 'Alto']\n"
     ]
    }
   ],
   "source": [
    "print(f\"Valores únicos da coluna ---regiao--- : {df_dados_agua.regiao.unique()} \\n\")\n",
    "print(f\"Valores únicos da coluna ---padrao_consumo--- : {df_dados_agua.padrao_consumo.unique()}\")"
   ]
  },
  {
   "cell_type": "markdown",
   "metadata": {},
   "source": [
    "#### Mapeando os novos valores de *\"padrao_consumo\"* e excluindo a coluna *\"regiao\"*"
   ]
  },
  {
   "cell_type": "code",
   "execution_count": 98,
   "metadata": {},
   "outputs": [],
   "source": [
    "# dropando coluna \"regiao\" por possuir um unico valor\n",
    "df_dados_agua.drop(columns = [\"regiao\"], axis = \"columns\", inplace = True)\n",
    "\n",
    "dicionario_padrao_consumo = {\n",
    "    \"Normal\" : 0,\n",
    "    \"Alto\" : 1\n",
    "}\n",
    "\n",
    "df_dados_agua[\"padrao_consumo\"] = df_dados_agua[\"padrao_consumo\"].map(dicionario_padrao_consumo)\n",
    "df_dados_agua[\"padrao_consumo\"] = df_dados_agua[\"padrao_consumo\"].astype(\"uint8\")"
   ]
  },
  {
   "cell_type": "markdown",
   "metadata": {},
   "source": [
    "### Como ficaram os dados:"
   ]
  },
  {
   "cell_type": "code",
   "execution_count": 100,
   "metadata": {},
   "outputs": [
    {
     "name": "stdout",
     "output_type": "stream",
     "text": [
      "<class 'pandas.core.frame.DataFrame'>\n",
      "RangeIndex: 35040 entries, 0 to 35039\n",
      "Data columns (total 7 columns):\n",
      " #   Column              Non-Null Count  Dtype  \n",
      "---  ------              --------------  -----  \n",
      " 0   ano                 35040 non-null  uint16 \n",
      " 1   mes                 35040 non-null  uint8  \n",
      " 2   dia_semana          35040 non-null  uint8  \n",
      " 3   hora                35040 non-null  uint8  \n",
      " 4   quantidade_pessoas  35040 non-null  uint8  \n",
      " 5   consumo_agua_m3     35040 non-null  float32\n",
      " 6   padrao_consumo      35040 non-null  uint8  \n",
      "dtypes: float32(1), uint16(1), uint8(5)\n",
      "memory usage: 376.5 KB\n"
     ]
    }
   ],
   "source": [
    "df_dados_agua.info()"
   ]
  },
  {
   "cell_type": "markdown",
   "metadata": {},
   "source": [
    "## EDA"
   ]
  },
  {
   "cell_type": "markdown",
   "metadata": {},
   "source": [
    "### Valor máximo, Valor mínimo, Média, Mediana, Desvio padrão"
   ]
  },
  {
   "cell_type": "code",
   "execution_count": 103,
   "metadata": {},
   "outputs": [
    {
     "name": "stdout",
     "output_type": "stream",
     "text": [
      "Valores máximos:\n",
      "\n",
      "Coluna ano: 2023\n",
      "Coluna mes: 12\n",
      "Coluna dia_semana: 6\n",
      "Coluna hora: 23\n",
      "Coluna quantidade_pessoas: 3\n",
      "Coluna consumo_agua_m3: 4.110000133514404\n",
      "Coluna padrao_consumo: 1\n",
      "\n",
      "\n",
      "Valores mínimos:\n",
      "\n",
      "Coluna ano: 2020\n",
      "Coluna mes: 1\n",
      "Coluna dia_semana: 0\n",
      "Coluna hora: 0\n",
      "Coluna quantidade_pessoas: 3\n",
      "Coluna consumo_agua_m3: 0.029999999329447746\n",
      "Coluna padrao_consumo: 0\n",
      "\n",
      "\n",
      "Média dos valores:\n",
      "\n",
      "Coluna ano: 2021.4979452054795\n",
      "Coluna mes: 6.519178082191781\n",
      "Coluna dia_semana: 3.004109589041096\n",
      "Coluna hora: 11.5\n",
      "Coluna quantidade_pessoas: 3.0\n",
      "Coluna consumo_agua_m3: 0.9206660985946655\n",
      "Coluna padrao_consumo: 0.20345319634703196\n",
      "\n",
      "\n",
      "Mediana dos valores:\n",
      "\n",
      "Coluna ano: 2021.0\n",
      "Coluna mes: 7.0\n",
      "Coluna dia_semana: 3.0\n",
      "Coluna hora: 11.5\n",
      "Coluna quantidade_pessoas: 3.0\n",
      "Coluna consumo_agua_m3: 0.7400000095367432\n",
      "Coluna padrao_consumo: 0.0\n",
      "\n",
      "\n",
      "Desvio padrão dos valores:\n",
      "\n",
      "Coluna ano: 1.118048054527653\n",
      "Coluna mes: 3.446952006303335\n",
      "Coluna dia_semana: 1.999681816488795\n",
      "Coluna hora: 6.922285330039023\n",
      "Coluna quantidade_pessoas: 0.0\n",
      "Coluna consumo_agua_m3: 0.8186765909194946\n",
      "Coluna padrao_consumo: 0.4025725007685087\n"
     ]
    }
   ],
   "source": [
    "print(\"Valores máximos:\\n\")\n",
    "for column in df_dados_agua.columns:\n",
    "    print(f\"Coluna {column}: {df_dados_agua[column].max()}\")\n",
    "    \n",
    "print(\"\\n\\nValores mínimos:\\n\")\n",
    "for column in df_dados_agua.columns:\n",
    "    print(f\"Coluna {column}: {df_dados_agua[column].min()}\")\n",
    "    \n",
    "print(\"\\n\\nMédia dos valores:\\n\")\n",
    "for column in df_dados_agua.columns:\n",
    "    print(f\"Coluna {column}: {df_dados_agua[column].mean()}\")\n",
    "    \n",
    "print(\"\\n\\nMediana dos valores:\\n\")\n",
    "for column in df_dados_agua.columns:\n",
    "    print(f\"Coluna {column}: {df_dados_agua[column].median()}\")\n",
    "    \n",
    "print(\"\\n\\nDesvio padrão dos valores:\\n\")\n",
    "for column in df_dados_agua.columns:\n",
    "    print(f\"Coluna {column}: {df_dados_agua[column].std()}\")"
   ]
  },
  {
   "cell_type": "markdown",
   "metadata": {},
   "source": [
    "### Correlação entre as colunas"
   ]
  },
  {
   "cell_type": "code",
   "execution_count": 101,
   "metadata": {},
   "outputs": [
    {
     "data": {
      "text/html": [
       "<div>\n",
       "<style scoped>\n",
       "    .dataframe tbody tr th:only-of-type {\n",
       "        vertical-align: middle;\n",
       "    }\n",
       "\n",
       "    .dataframe tbody tr th {\n",
       "        vertical-align: top;\n",
       "    }\n",
       "\n",
       "    .dataframe thead th {\n",
       "        text-align: right;\n",
       "    }\n",
       "</style>\n",
       "<table border=\"1\" class=\"dataframe\">\n",
       "  <thead>\n",
       "    <tr style=\"text-align: right;\">\n",
       "      <th></th>\n",
       "      <th>ano</th>\n",
       "      <th>mes</th>\n",
       "      <th>dia_semana</th>\n",
       "      <th>hora</th>\n",
       "      <th>quantidade_pessoas</th>\n",
       "      <th>consumo_agua_m3</th>\n",
       "      <th>padrao_consumo</th>\n",
       "    </tr>\n",
       "  </thead>\n",
       "  <tbody>\n",
       "    <tr>\n",
       "      <th>ano</th>\n",
       "      <td>1.000000e+00</td>\n",
       "      <td>-2.563713e-04</td>\n",
       "      <td>-3.025872e-04</td>\n",
       "      <td>-1.274094e-15</td>\n",
       "      <td>NaN</td>\n",
       "      <td>-0.005301</td>\n",
       "      <td>-0.012482</td>\n",
       "    </tr>\n",
       "    <tr>\n",
       "      <th>mes</th>\n",
       "      <td>-2.563713e-04</td>\n",
       "      <td>1.000000e+00</td>\n",
       "      <td>6.348364e-03</td>\n",
       "      <td>-1.478608e-16</td>\n",
       "      <td>NaN</td>\n",
       "      <td>-0.011341</td>\n",
       "      <td>0.002176</td>\n",
       "    </tr>\n",
       "    <tr>\n",
       "      <th>dia_semana</th>\n",
       "      <td>-3.025872e-04</td>\n",
       "      <td>6.348364e-03</td>\n",
       "      <td>1.000000e+00</td>\n",
       "      <td>6.152865e-18</td>\n",
       "      <td>NaN</td>\n",
       "      <td>0.004639</td>\n",
       "      <td>0.005130</td>\n",
       "    </tr>\n",
       "    <tr>\n",
       "      <th>hora</th>\n",
       "      <td>-1.274094e-15</td>\n",
       "      <td>-1.478608e-16</td>\n",
       "      <td>6.152865e-18</td>\n",
       "      <td>1.000000e+00</td>\n",
       "      <td>NaN</td>\n",
       "      <td>0.086083</td>\n",
       "      <td>0.005566</td>\n",
       "    </tr>\n",
       "    <tr>\n",
       "      <th>quantidade_pessoas</th>\n",
       "      <td>NaN</td>\n",
       "      <td>NaN</td>\n",
       "      <td>NaN</td>\n",
       "      <td>NaN</td>\n",
       "      <td>NaN</td>\n",
       "      <td>NaN</td>\n",
       "      <td>NaN</td>\n",
       "    </tr>\n",
       "    <tr>\n",
       "      <th>consumo_agua_m3</th>\n",
       "      <td>-5.301279e-03</td>\n",
       "      <td>-1.134053e-02</td>\n",
       "      <td>4.638501e-03</td>\n",
       "      <td>8.608331e-02</td>\n",
       "      <td>NaN</td>\n",
       "      <td>1.000000</td>\n",
       "      <td>0.587553</td>\n",
       "    </tr>\n",
       "    <tr>\n",
       "      <th>padrao_consumo</th>\n",
       "      <td>-1.248194e-02</td>\n",
       "      <td>2.175556e-03</td>\n",
       "      <td>5.130032e-03</td>\n",
       "      <td>5.566142e-03</td>\n",
       "      <td>NaN</td>\n",
       "      <td>0.587553</td>\n",
       "      <td>1.000000</td>\n",
       "    </tr>\n",
       "  </tbody>\n",
       "</table>\n",
       "</div>"
      ],
      "text/plain": [
       "                             ano           mes    dia_semana          hora  \\\n",
       "ano                 1.000000e+00 -2.563713e-04 -3.025872e-04 -1.274094e-15   \n",
       "mes                -2.563713e-04  1.000000e+00  6.348364e-03 -1.478608e-16   \n",
       "dia_semana         -3.025872e-04  6.348364e-03  1.000000e+00  6.152865e-18   \n",
       "hora               -1.274094e-15 -1.478608e-16  6.152865e-18  1.000000e+00   \n",
       "quantidade_pessoas           NaN           NaN           NaN           NaN   \n",
       "consumo_agua_m3    -5.301279e-03 -1.134053e-02  4.638501e-03  8.608331e-02   \n",
       "padrao_consumo     -1.248194e-02  2.175556e-03  5.130032e-03  5.566142e-03   \n",
       "\n",
       "                    quantidade_pessoas  consumo_agua_m3  padrao_consumo  \n",
       "ano                                NaN        -0.005301       -0.012482  \n",
       "mes                                NaN        -0.011341        0.002176  \n",
       "dia_semana                         NaN         0.004639        0.005130  \n",
       "hora                               NaN         0.086083        0.005566  \n",
       "quantidade_pessoas                 NaN              NaN             NaN  \n",
       "consumo_agua_m3                    NaN         1.000000        0.587553  \n",
       "padrao_consumo                     NaN         0.587553        1.000000  "
      ]
     },
     "execution_count": 101,
     "metadata": {},
     "output_type": "execute_result"
    }
   ],
   "source": [
    "df_correlacao = df_dados_agua.corr()\n",
    "df_correlacao"
   ]
  },
  {
   "cell_type": "markdown",
   "metadata": {},
   "source": [
    "### Matriz de correlação - Heatmap"
   ]
  },
  {
   "cell_type": "code",
   "execution_count": 102,
   "metadata": {},
   "outputs": [
    {
     "data": {
      "image/png": "[encoded data removed]",
      "text/plain": [
       "<Figure size 1400x1200 with 2 Axes>"
      ]
     },
     "metadata": {},
     "output_type": "display_data"
    }
   ],
   "source": [
    "figure = plt.figure(figsize = (14, 12))\n",
    "sns.heatmap(data = df_correlacao)\n",
    "plt.show()"
   ]
  },
  {
   "cell_type": "markdown",
   "metadata": {},
   "source": [
    "## Separando as features do target"
   ]
  },
  {
   "cell_type": "code",
   "execution_count": null,
   "metadata": {},
   "outputs": [],
   "source": [
    "X = df_dados_agua.values\n",
    "y = df_dados_agua.values.reshape(-1, 1)"
   ]
  },
  {
   "cell_type": "markdown",
   "metadata": {},
   "source": [
    "## Divisão treino-teste"
   ]
  },
  {
   "cell_type": "code",
   "execution_count": null,
   "metadata": {},
   "outputs": [],
   "source": [
    "tamanho_corte = 0.4\n",
    "semente = 42\n",
    "x_train, x_test, y_train, y_test = train_test_split(X, y, test_size = tamanho_corte, random_state = semente)"
   ]
  },
  {
   "cell_type": "markdown",
   "metadata": {},
   "source": [
    "## RandomForestClassifier"
   ]
  },
  {
   "cell_type": "code",
   "execution_count": null,
   "metadata": {},
   "outputs": [],
   "source": [
    "modelo_random_forest = RandomForestClassifier()"
   ]
  },
  {
   "cell_type": "code",
   "execution_count": null,
   "metadata": {},
   "outputs": [],
   "source": [
    "dicionario_random_forest = {\n",
    "    n_estimators                : np.arange(10, 110, 10),# de 10 a 100\n",
    "    criterion                   : [\"gini\", \"entropy\", \"log_loss\"],\n",
    "    max_depth                   : np.arange(2, 8, 1),# de 2 a 7\n",
    "    min_samples_split           : np.arange(2, 11, 1),# de 2 a 10\n",
    "    min_samples_leaf            : np.arange(1, 6, 1),# de 1 a 5\n",
    "    max_features                : [\"sqrt\", \"log2\", None],\n",
    "    max_leaf_nodes              : [5, 10, 15, 20, None],\n",
    "    n_jobs                      : [-1],\n",
    "    random_state                : [42]\n",
    "}"
   ]
  },
  {
   "cell_type": "markdown",
   "metadata": {},
   "source": [
    "## KNN"
   ]
  },
  {
   "cell_type": "code",
   "execution_count": null,
   "metadata": {},
   "outputs": [],
   "source": [
    "modelo_kmeans = NearestNeighbors()"
   ]
  },
  {
   "cell_type": "code",
   "execution_count": null,
   "metadata": {},
   "outputs": [],
   "source": [
    "dicionario_kmeans = {\n",
    "    n_neighbors  : np.arange(3, 17, 2),# de 3 a 15\n",
    "    radius       : np.arange(1.0, 3.5, 0.5),# de 1.0 a 3.0\n",
    "    p            : np.arange(1.0, 2.1, 0.1),# de 1.0 a 2.0\n",
    "    n_jobs       : [-1]\n",
    "}"
   ]
  },
  {
   "cell_type": "markdown",
   "metadata": {},
   "source": [
    "## SVC"
   ]
  },
  {
   "cell_type": "code",
   "execution_count": null,
   "metadata": {},
   "outputs": [],
   "source": [
    "modelo_svc = SVC()"
   ]
  },
  {
   "cell_type": "code",
   "execution_count": null,
   "metadata": {},
   "outputs": [],
   "source": [
    "dicionario_svc = {\n",
    "    C                           : np.logspace(-3, 3, 7),\n",
    "    kernel                      : [\"linear\", \"poly\", \"rbf\", \"sigmoid\", \"precomputed\"],\n",
    "    degree                      : np.arange(1, 6, 1),\n",
    "    tol                         : np.logspace(-5, -1, 5),\n",
    "    max_iter                    : [100, 200, 300, 400, 500, 600, -1],\n",
    "    decision_function_shape     : [\"ovr\", \"ovo\"],\n",
    "    random_state                :  [42]\n",
    "}"
   ]
  }
 ],
 "metadata": {
  "kernelspec": {
   "display_name": ".cepedi-venv",
   "language": "python",
   "name": "python3"
  },
  "language_info": {
   "codemirror_mode": {
    "name": "ipython",
    "version": 3
   },
   "file_extension": ".py",
   "mimetype": "text/x-python",
   "name": "python",
   "nbconvert_exporter": "python",
   "pygments_lexer": "ipython3",
   "version": "3.11.6"
  }
 },
 "nbformat": 4,
 "nbformat_minor": 2
}
