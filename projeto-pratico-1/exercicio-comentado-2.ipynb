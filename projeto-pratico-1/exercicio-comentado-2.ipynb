{
 "cells": [
  {
   "cell_type": "markdown",
   "metadata": {},
   "source": [
    "# Exercício comentado 2"
   ]
  },
  {
   "cell_type": "markdown",
   "metadata": {},
   "source": [
    "## importando as bibliotecas"
   ]
  },
  {
   "cell_type": "code",
   "execution_count": null,
   "metadata": {},
   "outputs": [],
   "source": [
    "import numpy as np\n",
    "import pandas as pd"
   ]
  },
  {
   "cell_type": "markdown",
   "metadata": {},
   "source": [
    "## Importando o DataFrame"
   ]
  },
  {
   "cell_type": "code",
   "execution_count": null,
   "metadata": {},
   "outputs": [],
   "source": [
    "raw_dataframe = pd.read_csv(\"./datasets/raw/Sleep_health_and_lifestyle_dataset.csv\", sep = \",\")\n",
    "raw_dataframe.head(5)"
   ]
  },
  {
   "cell_type": "markdown",
   "metadata": {},
   "source": [
    "## Traduzindo os nomes das colunas para português"
   ]
  },
  {
   "cell_type": "code",
   "execution_count": null,
   "metadata": {},
   "outputs": [],
   "source": [
    "colunas_traduzir = {\n",
    "    \"Person ID\" : \"id_pessoa\",\n",
    "    \"Gender\" : \"genero\",\n",
    "    \"Age\" : \"idade\",\n",
    "    \"Occupation\" : \"ocupacao\",\n",
    "    \"Sleep Duration\" : \"horas_sono\",\n",
    "    \"Quality_od Sleep\" : \"qualidade_sono\",\n",
    "    \"Physical Activity Level\" : \"nivel_atividade_fisica\",\n",
    "    \"Stress Level\" : \"nivel_estresse\",\n",
    "    \"BMI Category\" : \"categoria_bmi\",\n",
    "    \"Blood Pressure\" : \"pressao_sanguinia\",\n",
    "    \"Heart Rate\" : \"batimento_cardiaco\",\n",
    "    \"Daily Steps\" : \"quantidade_passos_diarios\",\n",
    "    \"Sleep Disorder\" : \"disordem_do_sono\" \n",
    "}"
   ]
  },
  {
   "cell_type": "code",
   "execution_count": null,
   "metadata": {},
   "outputs": [],
   "source": [
    "processed_dataframe = raw_dataframe.rename(columns = colunas_traduzir)\n",
    "processed_dataframe"
   ]
  },
  {
   "cell_type": "markdown",
   "metadata": {},
   "source": [
    "## Criando coluna *\"codigo_genero\"*"
   ]
  },
  {
   "cell_type": "code",
   "execution_count": null,
   "metadata": {},
   "outputs": [],
   "source": [
    "processed_dataframe[\"codigo_genero\"] = pd.Categorical(processed_dataframe[\"genero\"]).codes\n",
    "processed_dataframe.head(5)"
   ]
  },
  {
   "cell_type": "markdown",
   "metadata": {},
   "source": [
    "## Criando um dataframe só com os *genero* e *codigo do genero*"
   ]
  },
  {
   "cell_type": "code",
   "execution_count": null,
   "metadata": {},
   "outputs": [],
   "source": [
    "dataframe_sexo = processed_dataframe[[\"genero\", \"codigo_genero\"]]\n",
    "dataframe_sexo.sample(5)"
   ]
  },
  {
   "cell_type": "markdown",
   "metadata": {},
   "source": [
    "## Remapeando o codigo de genero"
   ]
  },
  {
   "cell_type": "code",
   "execution_count": null,
   "metadata": {},
   "outputs": [],
   "source": [
    "remapeamento = {\n",
    "    \"Male\" : 50,\n",
    "    \"Female\" : 100\n",
    "}"
   ]
  },
  {
   "cell_type": "code",
   "execution_count": null,
   "metadata": {},
   "outputs": [],
   "source": [
    "dataframe_sexo[\"codigo_genero\"] = dataframe_sexo[\"genero\"].map(remapeamento)\n",
    "dataframe_sexo.sample(5)"
   ]
  }
 ],
 "metadata": {
  "kernelspec": {
   "display_name": ".aquisicao-venv",
   "language": "python",
   "name": "python3"
  },
  "language_info": {
   "codemirror_mode": {
    "name": "ipython",
    "version": 3
   },
   "file_extension": ".py",
   "mimetype": "text/x-python",
   "name": "python",
   "nbconvert_exporter": "python",
   "pygments_lexer": "ipython3",
   "version": "3.10.6"
  }
 },
 "nbformat": 4,
 "nbformat_minor": 2
}
